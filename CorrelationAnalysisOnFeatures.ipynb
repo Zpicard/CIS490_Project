{
 "cells": [
  {
   "cell_type": "markdown",
   "metadata": {},
   "source": [
    "### Lets evaluate our feature \n",
    "###### Lets create a correlion matrix to see the importance of our features as compared to our target column"
   ]
  },
  {
   "cell_type": "code",
   "execution_count": 1,
   "metadata": {},
   "outputs": [
    {
     "data": {
      "text/plain": [
       "job_title_salary_rank      -0.285433\n",
       "company_size               -0.009549\n",
       "experience_level_encoded    0.358311\n",
       "employment_type_encoded    -0.089212\n",
       "work_year                   0.034692\n",
       "salary_in_usd               1.000000\n",
       "Name: salary_in_usd, dtype: float64"
      ]
     },
     "execution_count": 1,
     "metadata": {},
     "output_type": "execute_result"
    }
   ],
   "source": [
    "import pandas as pd\n",
    "\n",
    "# Calculate the correlation of all features with salary_in_usd\n",
    "df = pd.read_csv('cleaned_data_ready_for_ml.csv')\n",
    "correlation_salary = df.corr()['salary_in_usd']\n",
    "correlation_salary\n"
   ]
  },
  {
   "cell_type": "markdown",
   "metadata": {},
   "source": []
  }
 ],
 "metadata": {
  "kernelspec": {
   "display_name": "Python 3",
   "language": "python",
   "name": "python3"
  },
  "language_info": {
   "codemirror_mode": {
    "name": "ipython",
    "version": 3
   },
   "file_extension": ".py",
   "mimetype": "text/x-python",
   "name": "python",
   "nbconvert_exporter": "python",
   "pygments_lexer": "ipython3",
   "version": "3.11.5"
  }
 },
 "nbformat": 4,
 "nbformat_minor": 2
}
